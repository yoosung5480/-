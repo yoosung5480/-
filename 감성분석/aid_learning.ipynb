{
 "cells": [
  {
   "cell_type": "code",
   "execution_count": 14,
   "metadata": {},
   "outputs": [],
   "source": [
    "import tensorflow as tf\n",
    "import numpy as np\n",
    "import pandas as pd\n",
    "import tensorflow_datasets as tfds"
   ]
  },
  {
   "cell_type": "code",
   "execution_count": 29,
   "metadata": {},
   "outputs": [
    {
     "data": {
      "text/plain": [
       "reviewer_id      0\n",
       "store_name       0\n",
       "category         0\n",
       "store_address    0\n",
       "latitude         0\n",
       "longitude        0\n",
       "rating_count     0\n",
       "review_time      0\n",
       "review           0\n",
       "rating           0\n",
       "dtype: int64"
      ]
     },
     "execution_count": 29,
     "metadata": {},
     "output_type": "execute_result"
    }
   ],
   "source": [
    "train_path = '/Users/yujin/Desktop/python_projects/머신러닝교과서/datasets/Baseline Code + Data/train_data.csv'\n",
    "test_path = '/Users/yujin/Desktop/python_projects/머신러닝교과서/datasets/Baseline Code + Data/test_data.csv'\n",
    "\n",
    "df_test = pd.read_csv(test_path)\n",
    "df_train = pd.read_csv(train_path)\n",
    "df_train.isnull().sum()"
   ]
  },
  {
   "cell_type": "code",
   "execution_count": 30,
   "metadata": {},
   "outputs": [
    {
     "data": {
      "text/plain": [
       "(26188, 10)"
      ]
     },
     "execution_count": 30,
     "metadata": {},
     "output_type": "execute_result"
    }
   ],
   "source": [
    "df_train.shape"
   ]
  },
  {
   "cell_type": "code",
   "execution_count": 31,
   "metadata": {},
   "outputs": [],
   "source": [
    "target = df_train.pop('rating')"
   ]
  },
  {
   "cell_type": "code",
   "execution_count": 32,
   "metadata": {},
   "outputs": [
    {
     "data": {
      "text/plain": [
       "0    The manager is rude and speaks to her employee...\n",
       "1                                                Good \n",
       "2    What a waste of time we were there in line for...\n",
       "3        Drive through was smooth and service was good\n",
       "4                                           Excellent \n",
       "Name: review, dtype: object"
      ]
     },
     "execution_count": 32,
     "metadata": {},
     "output_type": "execute_result"
    }
   ],
   "source": [
    "import re\n",
    "# 특수 문자를 제거하는 함수 정의\n",
    "def remove_invalid_chars(text):\n",
    "    return re.sub(r'[^\\x00-\\x7F]+', '', text)\n",
    "\n",
    "# review 컬럼에서 특수 문자 제거\n",
    "df_train['review'] = df_train['review'].apply(remove_invalid_chars)\n",
    "review = df_train.pop('review')\n",
    "review.head(5)"
   ]
  },
  {
   "cell_type": "code",
   "execution_count": 33,
   "metadata": {},
   "outputs": [],
   "source": [
    "import myprocess\n",
    "\n",
    "padded_sequences, token_counts = myprocess.preprocessing_tokinize(review)"
   ]
  },
  {
   "cell_type": "code",
   "execution_count": 35,
   "metadata": {},
   "outputs": [
    {
     "data": {
      "text/plain": [
       "array([[   0,    0,    0, ...,  839,    6, 3740],\n",
       "       [   0,    0,    0, ...,    0,    0,   19],\n",
       "       [ 206,   69,    1, ...,  315,  337,  239],\n",
       "       ...,\n",
       "       [   0,    0,    0, ...,   26,  269,  427],\n",
       "       [   0,    0,    0, ...,    0,    0,   46],\n",
       "       [   0,    0,    0, ...,    0,  159,   75]], dtype=int32)"
      ]
     },
     "execution_count": 35,
     "metadata": {},
     "output_type": "execute_result"
    }
   ],
   "source": [
    "len(token_counts)\n",
    "padded_sequences"
   ]
  },
  {
   "cell_type": "code",
   "execution_count": 41,
   "metadata": {},
   "outputs": [
    {
     "name": "stdout",
     "output_type": "stream",
     "text": [
      "[0 0 0 ... 0 0 0] 1\n",
      "[0 0 0 ... 0 0 0] 4\n",
      "[206 69 1 ... 99 10 97] 1\n"
     ]
    },
    {
     "name": "stderr",
     "output_type": "stream",
     "text": [
      "2024-08-10 11:45:52.271594: I tensorflow/core/framework/local_rendezvous.cc:404] Local rendezvous is aborting with status: OUT_OF_RANGE: End of sequence\n"
     ]
    }
   ],
   "source": [
    "review_tensor = tf.convert_to_tensor(padded_sequences, dtype=tf.float64)\n",
    "target_tensor = tf.convert_to_tensor(target.values, dtype=tf.float64)\n",
    "\n",
    "ds_raw = tf.data.Dataset.from_tensor_slices((review_tensor, target_tensor))\n",
    "\n",
    "# 결합된 데이터셋의 샘플 확인\n",
    "for features, label in ds_raw.take(3):\n",
    "    tf.print(features[:10], label)"
   ]
  },
  {
   "cell_type": "code",
   "execution_count": 42,
   "metadata": {},
   "outputs": [
    {
     "data": {
      "text/plain": [
       "12917"
      ]
     },
     "execution_count": 42,
     "metadata": {},
     "output_type": "execute_result"
    }
   ],
   "source": [
    "process = myprocess.PreProcess(ds_raw, target.shape[0], is_tokenize=True)\n",
    "len(token_counts)"
   ]
  },
  {
   "cell_type": "code",
   "execution_count": 43,
   "metadata": {},
   "outputs": [],
   "source": [
    "batch_size = 32\n",
    "\n",
    "train_data, valid_data, test_data = process.get_datas(batch_size, train_size=0.5, valid_size = 0.1, test_size=0.4)"
   ]
  },
  {
   "cell_type": "code",
   "execution_count": 44,
   "metadata": {},
   "outputs": [
    {
     "data": {
      "text/plain": [
       "[<Sequential name=sequential, built=False>,\n",
       " <Sequential name=sequential_1, built=False>,\n",
       " <Sequential name=sequential_2, built=False>,\n",
       " <Sequential name=sequential_3, built=False>,\n",
       " <Sequential name=sequential_4, built=False>,\n",
       " <Sequential name=sequential_5, built=False>,\n",
       " <Sequential name=sequential_6, built=False>,\n",
       " <Sequential name=sequential_7, built=False>,\n",
       " <Sequential name=sequential_8, built=False>,\n",
       " <Sequential name=sequential_9, built=False>,\n",
       " <Sequential name=sequential_10, built=False>,\n",
       " <Sequential name=sequential_11, built=False>,\n",
       " <Sequential name=sequential_12, built=False>,\n",
       " <Sequential name=sequential_13, built=False>,\n",
       " <Sequential name=sequential_14, built=False>,\n",
       " <Sequential name=sequential_15, built=False>]"
      ]
     },
     "execution_count": 44,
     "metadata": {},
     "output_type": "execute_result"
    }
   ],
   "source": [
    "vocab_size = len(token_counts) + 2  \n",
    "node_nums = [32, 64]\n",
    "embedding_dims = [75, 100, 150, 200]\n",
    "layer_nums = [1, 2]\n",
    "\n",
    "model_list= myprocess.make_models(vocab_size, node_nums, embedding_dims, layer_nums)\n",
    "model_list"
   ]
  }
 ],
 "metadata": {
  "kernelspec": {
   "display_name": "machine_learning",
   "language": "python",
   "name": "python3"
  },
  "language_info": {
   "codemirror_mode": {
    "name": "ipython",
    "version": 3
   },
   "file_extension": ".py",
   "mimetype": "text/x-python",
   "name": "python",
   "nbconvert_exporter": "python",
   "pygments_lexer": "ipython3",
   "version": "3.9.19"
  }
 },
 "nbformat": 4,
 "nbformat_minor": 2
}

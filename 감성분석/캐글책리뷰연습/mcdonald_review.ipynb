{
 "cells": [
  {
   "cell_type": "code",
   "execution_count": 1,
   "metadata": {},
   "outputs": [
    {
     "name": "stderr",
     "output_type": "stream",
     "text": [
      "2024-08-09 04:32:46.882393: I tensorflow/core/util/port.cc:153] oneDNN custom operations are on. You may see slightly different numerical results due to floating-point round-off errors from different computation orders. To turn them off, set the environment variable `TF_ENABLE_ONEDNN_OPTS=0`.\n",
      "2024-08-09 04:32:46.882900: I external/local_xla/xla/tsl/cuda/cudart_stub.cc:32] Could not find cuda drivers on your machine, GPU will not be used.\n",
      "2024-08-09 04:32:46.885194: I external/local_xla/xla/tsl/cuda/cudart_stub.cc:32] Could not find cuda drivers on your machine, GPU will not be used.\n",
      "2024-08-09 04:32:46.891180: E external/local_xla/xla/stream_executor/cuda/cuda_fft.cc:485] Unable to register cuFFT factory: Attempting to register factory for plugin cuFFT when one has already been registered\n",
      "2024-08-09 04:32:46.901906: E external/local_xla/xla/stream_executor/cuda/cuda_dnn.cc:8454] Unable to register cuDNN factory: Attempting to register factory for plugin cuDNN when one has already been registered\n",
      "2024-08-09 04:32:46.904775: E external/local_xla/xla/stream_executor/cuda/cuda_blas.cc:1452] Unable to register cuBLAS factory: Attempting to register factory for plugin cuBLAS when one has already been registered\n",
      "2024-08-09 04:32:46.912473: I tensorflow/core/platform/cpu_feature_guard.cc:210] This TensorFlow binary is optimized to use available CPU instructions in performance-critical operations.\n",
      "To enable the following instructions: AVX2 AVX_VNNI FMA, in other operations, rebuild TensorFlow with the appropriate compiler flags.\n",
      "2024-08-09 04:32:47.446719: W tensorflow/compiler/tf2tensorrt/utils/py_utils.cc:38] TF-TRT Warning: Could not find TensorRT\n"
     ]
    }
   ],
   "source": [
    "import tensorflow as tf\n",
    "import tensorflow_datasets as tfds\n",
    "import numpy as np\n",
    "import pandas as pd\n",
    "import chardet\n",
    "import os\n",
    "from collections import Counter"
   ]
  },
  {
   "cell_type": "code",
   "execution_count": 2,
   "metadata": {},
   "outputs": [
    {
     "data": {
      "text/html": [
       "<div>\n",
       "<style scoped>\n",
       "    .dataframe tbody tr th:only-of-type {\n",
       "        vertical-align: middle;\n",
       "    }\n",
       "\n",
       "    .dataframe tbody tr th {\n",
       "        vertical-align: top;\n",
       "    }\n",
       "\n",
       "    .dataframe thead th {\n",
       "        text-align: right;\n",
       "    }\n",
       "</style>\n",
       "<table border=\"1\" class=\"dataframe\">\n",
       "  <thead>\n",
       "    <tr style=\"text-align: right;\">\n",
       "      <th></th>\n",
       "      <th>reviewer_id</th>\n",
       "      <th>store_name</th>\n",
       "      <th>category</th>\n",
       "      <th>store_address</th>\n",
       "      <th>latitude</th>\n",
       "      <th>longitude</th>\n",
       "      <th>rating_count</th>\n",
       "      <th>review_time</th>\n",
       "      <th>review</th>\n",
       "      <th>rating</th>\n",
       "    </tr>\n",
       "  </thead>\n",
       "  <tbody>\n",
       "    <tr>\n",
       "      <th>0</th>\n",
       "      <td>1</td>\n",
       "      <td>McDonald's</td>\n",
       "      <td>Fast food restaurant</td>\n",
       "      <td>13749 US-183 Hwy, Austin, TX 78750, United States</td>\n",
       "      <td>30.460718</td>\n",
       "      <td>-97.792874</td>\n",
       "      <td>1,240</td>\n",
       "      <td>3 months ago</td>\n",
       "      <td>Why does it look like someone spit on my food?...</td>\n",
       "      <td>1 star</td>\n",
       "    </tr>\n",
       "    <tr>\n",
       "      <th>1</th>\n",
       "      <td>2</td>\n",
       "      <td>McDonald's</td>\n",
       "      <td>Fast food restaurant</td>\n",
       "      <td>13749 US-183 Hwy, Austin, TX 78750, United States</td>\n",
       "      <td>30.460718</td>\n",
       "      <td>-97.792874</td>\n",
       "      <td>1,240</td>\n",
       "      <td>5 days ago</td>\n",
       "      <td>It'd McDonalds. It is what it is as far as the...</td>\n",
       "      <td>4 stars</td>\n",
       "    </tr>\n",
       "    <tr>\n",
       "      <th>2</th>\n",
       "      <td>3</td>\n",
       "      <td>McDonald's</td>\n",
       "      <td>Fast food restaurant</td>\n",
       "      <td>13749 US-183 Hwy, Austin, TX 78750, United States</td>\n",
       "      <td>30.460718</td>\n",
       "      <td>-97.792874</td>\n",
       "      <td>1,240</td>\n",
       "      <td>5 days ago</td>\n",
       "      <td>Made a mobile order got to the speaker and che...</td>\n",
       "      <td>1 star</td>\n",
       "    </tr>\n",
       "    <tr>\n",
       "      <th>3</th>\n",
       "      <td>4</td>\n",
       "      <td>McDonald's</td>\n",
       "      <td>Fast food restaurant</td>\n",
       "      <td>13749 US-183 Hwy, Austin, TX 78750, United States</td>\n",
       "      <td>30.460718</td>\n",
       "      <td>-97.792874</td>\n",
       "      <td>1,240</td>\n",
       "      <td>a month ago</td>\n",
       "      <td>My mc. Crispy chicken sandwich was ï¿½ï¿½ï¿½ï¿...</td>\n",
       "      <td>5 stars</td>\n",
       "    </tr>\n",
       "    <tr>\n",
       "      <th>4</th>\n",
       "      <td>5</td>\n",
       "      <td>McDonald's</td>\n",
       "      <td>Fast food restaurant</td>\n",
       "      <td>13749 US-183 Hwy, Austin, TX 78750, United States</td>\n",
       "      <td>30.460718</td>\n",
       "      <td>-97.792874</td>\n",
       "      <td>1,240</td>\n",
       "      <td>2 months ago</td>\n",
       "      <td>I repeat my order 3 times in the drive thru, a...</td>\n",
       "      <td>1 star</td>\n",
       "    </tr>\n",
       "    <tr>\n",
       "      <th>...</th>\n",
       "      <td>...</td>\n",
       "      <td>...</td>\n",
       "      <td>...</td>\n",
       "      <td>...</td>\n",
       "      <td>...</td>\n",
       "      <td>...</td>\n",
       "      <td>...</td>\n",
       "      <td>...</td>\n",
       "      <td>...</td>\n",
       "      <td>...</td>\n",
       "    </tr>\n",
       "    <tr>\n",
       "      <th>33391</th>\n",
       "      <td>33392</td>\n",
       "      <td>McDonald's</td>\n",
       "      <td>Fast food restaurant</td>\n",
       "      <td>3501 Biscayne Blvd, Miami, FL 33137, United St...</td>\n",
       "      <td>25.810000</td>\n",
       "      <td>-80.189098</td>\n",
       "      <td>2,810</td>\n",
       "      <td>4 years ago</td>\n",
       "      <td>They treated me very badly.</td>\n",
       "      <td>1 star</td>\n",
       "    </tr>\n",
       "    <tr>\n",
       "      <th>33392</th>\n",
       "      <td>33393</td>\n",
       "      <td>McDonald's</td>\n",
       "      <td>Fast food restaurant</td>\n",
       "      <td>3501 Biscayne Blvd, Miami, FL 33137, United St...</td>\n",
       "      <td>25.810000</td>\n",
       "      <td>-80.189098</td>\n",
       "      <td>2,810</td>\n",
       "      <td>a year ago</td>\n",
       "      <td>The service is very good</td>\n",
       "      <td>5 stars</td>\n",
       "    </tr>\n",
       "    <tr>\n",
       "      <th>33393</th>\n",
       "      <td>33394</td>\n",
       "      <td>McDonald's</td>\n",
       "      <td>Fast food restaurant</td>\n",
       "      <td>3501 Biscayne Blvd, Miami, FL 33137, United St...</td>\n",
       "      <td>25.810000</td>\n",
       "      <td>-80.189098</td>\n",
       "      <td>2,810</td>\n",
       "      <td>a year ago</td>\n",
       "      <td>To remove hunger is enough</td>\n",
       "      <td>4 stars</td>\n",
       "    </tr>\n",
       "    <tr>\n",
       "      <th>33394</th>\n",
       "      <td>33395</td>\n",
       "      <td>McDonald's</td>\n",
       "      <td>Fast food restaurant</td>\n",
       "      <td>3501 Biscayne Blvd, Miami, FL 33137, United St...</td>\n",
       "      <td>25.810000</td>\n",
       "      <td>-80.189098</td>\n",
       "      <td>2,810</td>\n",
       "      <td>5 years ago</td>\n",
       "      <td>It's good, but lately it has become very expen...</td>\n",
       "      <td>5 stars</td>\n",
       "    </tr>\n",
       "    <tr>\n",
       "      <th>33395</th>\n",
       "      <td>33396</td>\n",
       "      <td>McDonald's</td>\n",
       "      <td>Fast food restaurant</td>\n",
       "      <td>3501 Biscayne Blvd, Miami, FL 33137, United St...</td>\n",
       "      <td>25.810000</td>\n",
       "      <td>-80.189098</td>\n",
       "      <td>2,810</td>\n",
       "      <td>2 years ago</td>\n",
       "      <td>they took good care of me</td>\n",
       "      <td>5 stars</td>\n",
       "    </tr>\n",
       "  </tbody>\n",
       "</table>\n",
       "<p>33396 rows × 10 columns</p>\n",
       "</div>"
      ],
      "text/plain": [
       "       reviewer_id  store_name              category  \\\n",
       "0                1  McDonald's  Fast food restaurant   \n",
       "1                2  McDonald's  Fast food restaurant   \n",
       "2                3  McDonald's  Fast food restaurant   \n",
       "3                4  McDonald's  Fast food restaurant   \n",
       "4                5  McDonald's  Fast food restaurant   \n",
       "...            ...         ...                   ...   \n",
       "33391        33392  McDonald's  Fast food restaurant   \n",
       "33392        33393  McDonald's  Fast food restaurant   \n",
       "33393        33394  McDonald's  Fast food restaurant   \n",
       "33394        33395  McDonald's  Fast food restaurant   \n",
       "33395        33396  McDonald's  Fast food restaurant   \n",
       "\n",
       "                                           store_address  latitude   \\\n",
       "0      13749 US-183 Hwy, Austin, TX 78750, United States  30.460718   \n",
       "1      13749 US-183 Hwy, Austin, TX 78750, United States  30.460718   \n",
       "2      13749 US-183 Hwy, Austin, TX 78750, United States  30.460718   \n",
       "3      13749 US-183 Hwy, Austin, TX 78750, United States  30.460718   \n",
       "4      13749 US-183 Hwy, Austin, TX 78750, United States  30.460718   \n",
       "...                                                  ...        ...   \n",
       "33391  3501 Biscayne Blvd, Miami, FL 33137, United St...  25.810000   \n",
       "33392  3501 Biscayne Blvd, Miami, FL 33137, United St...  25.810000   \n",
       "33393  3501 Biscayne Blvd, Miami, FL 33137, United St...  25.810000   \n",
       "33394  3501 Biscayne Blvd, Miami, FL 33137, United St...  25.810000   \n",
       "33395  3501 Biscayne Blvd, Miami, FL 33137, United St...  25.810000   \n",
       "\n",
       "       longitude rating_count   review_time  \\\n",
       "0     -97.792874        1,240  3 months ago   \n",
       "1     -97.792874        1,240    5 days ago   \n",
       "2     -97.792874        1,240    5 days ago   \n",
       "3     -97.792874        1,240   a month ago   \n",
       "4     -97.792874        1,240  2 months ago   \n",
       "...          ...          ...           ...   \n",
       "33391 -80.189098        2,810   4 years ago   \n",
       "33392 -80.189098        2,810    a year ago   \n",
       "33393 -80.189098        2,810    a year ago   \n",
       "33394 -80.189098        2,810   5 years ago   \n",
       "33395 -80.189098        2,810   2 years ago   \n",
       "\n",
       "                                                  review   rating  \n",
       "0      Why does it look like someone spit on my food?...   1 star  \n",
       "1      It'd McDonalds. It is what it is as far as the...  4 stars  \n",
       "2      Made a mobile order got to the speaker and che...   1 star  \n",
       "3      My mc. Crispy chicken sandwich was ï¿½ï¿½ï¿½ï¿...  5 stars  \n",
       "4      I repeat my order 3 times in the drive thru, a...   1 star  \n",
       "...                                                  ...      ...  \n",
       "33391                        They treated me very badly.   1 star  \n",
       "33392                           The service is very good  5 stars  \n",
       "33393                         To remove hunger is enough  4 stars  \n",
       "33394  It's good, but lately it has become very expen...  5 stars  \n",
       "33395                          they took good care of me  5 stars  \n",
       "\n",
       "[33396 rows x 10 columns]"
      ]
     },
     "execution_count": 2,
     "metadata": {},
     "output_type": "execute_result"
    }
   ],
   "source": [
    "\n",
    "\n",
    "# 데이터셋 경로\n",
    "file_path = '/home/jys0714/바탕화면/-/datasets/McDonald_s_Reviews.csv'\n",
    "\n",
    "# 파일 인코딩 확인 및 데이터 로드\n",
    "\n",
    "df = pd.read_csv(file_path, encoding='latin1')\n",
    "\n",
    "\n",
    "# # 데이터셋의 첫 몇 행 출력\n",
    "# print(df.head())\n",
    "\n",
    "# # 데이터셋 정보 출력\n",
    "# print(df.info())\n",
    "\n",
    "# # 리뷰 컬럼의 샘플 데이터 출력\n",
    "# print(df['review'].sample(10))\n",
    "df\n"
   ]
  },
  {
   "cell_type": "code",
   "execution_count": 3,
   "metadata": {},
   "outputs": [
    {
     "data": {
      "text/plain": [
       "reviewer_id        0\n",
       "store_name         0\n",
       "category           0\n",
       "store_address      0\n",
       "latitude         660\n",
       "longitude        660\n",
       "rating_count       0\n",
       "review_time        0\n",
       "review             0\n",
       "rating             0\n",
       "dtype: int64"
      ]
     },
     "execution_count": 3,
     "metadata": {},
     "output_type": "execute_result"
    }
   ],
   "source": [
    "df.isnull().sum()"
   ]
  },
  {
   "cell_type": "code",
   "execution_count": 4,
   "metadata": {},
   "outputs": [
    {
     "data": {
      "text/plain": [
       "(33396, 10)"
      ]
     },
     "execution_count": 4,
     "metadata": {},
     "output_type": "execute_result"
    }
   ],
   "source": [
    "df.shape"
   ]
  },
  {
   "cell_type": "code",
   "execution_count": 5,
   "metadata": {},
   "outputs": [
    {
     "name": "stdout",
     "output_type": "stream",
     "text": [
      "(32736, 10)\n"
     ]
    }
   ],
   "source": [
    "df = df.dropna()\n",
    "print(df.shape)"
   ]
  },
  {
   "cell_type": "code",
   "execution_count": 6,
   "metadata": {},
   "outputs": [
    {
     "data": {
      "text/plain": [
       "reviewer_id      0\n",
       "store_name       0\n",
       "category         0\n",
       "store_address    0\n",
       "latitude         0\n",
       "longitude        0\n",
       "rating_count     0\n",
       "review_time      0\n",
       "review           0\n",
       "rating           0\n",
       "dtype: int64"
      ]
     },
     "execution_count": 6,
     "metadata": {},
     "output_type": "execute_result"
    }
   ],
   "source": [
    "df.isnull().sum()"
   ]
  },
  {
   "cell_type": "code",
   "execution_count": 7,
   "metadata": {},
   "outputs": [],
   "source": [
    "import matplotlib.pyplot as plt\n",
    "\n",
    "def barplot(colunm_name):\n",
    "    plt.bar(df[colunm_name].value_counts().index, df[colunm_name].value_counts().values)\n",
    "    plt.show()"
   ]
  },
  {
   "cell_type": "code",
   "execution_count": 8,
   "metadata": {},
   "outputs": [
    {
     "data": {
      "text/plain": [
       "rating\n",
       "5 stars    10059\n",
       "1 star      9305\n",
       "4 stars     5646\n",
       "3 stars     4706\n",
       "2 stars     3020\n",
       "Name: count, dtype: int64"
      ]
     },
     "execution_count": 8,
     "metadata": {},
     "output_type": "execute_result"
    }
   ],
   "source": [
    "df['rating'].value_counts()"
   ]
  },
  {
   "cell_type": "code",
   "execution_count": 9,
   "metadata": {},
   "outputs": [
    {
     "data": {
      "text/plain": [
       "39"
      ]
     },
     "execution_count": 9,
     "metadata": {},
     "output_type": "execute_result"
    }
   ],
   "source": [
    "len(df['store_address'].value_counts())"
   ]
  },
  {
   "cell_type": "code",
   "execution_count": 10,
   "metadata": {},
   "outputs": [
    {
     "data": {
      "image/png": "[encoded data removed]",
      "text/plain": [
       "<Figure size 640x480 with 1 Axes>"
      ]
     },
     "metadata": {},
     "output_type": "display_data"
    }
   ],
   "source": [
    "barplot('store_address')"
   ]
  },
  {
   "cell_type": "code",
   "execution_count": 11,
   "metadata": {},
   "outputs": [
    {
     "data": {
      "text/plain": [
       "store_address\n",
       "9814 International Dr, Orlando, FL 32819, United States                       1890\n",
       "5725 W Irlo Bronson Memorial Hwy, Kissimmee, FL 34746, United States          1720\n",
       "10901 Riverside Dr, North Hollywood, CA 91602, United States                  1710\n",
       "1415 E State Rd, Fern Park, FL 32730, United States                           1700\n",
       "632 S R L Thornton Freeway Service Rd, Dallas, TX 75203, United States        1650\n",
       "3501 Biscayne Blvd, Miami, FL 33137, United States                            1570\n",
       "621 Broadway, Newark, NJ 07104, United States                                 1290\n",
       "1100 N US Hwy 377, Roanoke, TX 76262, United States                           1168\n",
       "72-69 Kissena Blvd, Queens, NY 11367, United States                           1140\n",
       "429 7th Ave, New York, NY 10001, United States                                1140\n",
       "724 Broadway, New York, NY 10003, United States                               1140\n",
       "By Mandalay Bay, 3999 S Las Vegas Blvd, Las Vegas, NV 89119, United States    1030\n",
       "1698 US-209, Brodheadsville, PA 18322, United States                          1028\n",
       "702-2 Haddonfield-Berlin Rd, Voorhees Township, NJ 08043, United States        943\n",
       "8500 US-290, Austin, TX 78724, United States                                   926\n",
       "210 5th S, Salt Lake City, UT 84106, United States                             890\n",
       "490 8th Ave, New York, NY 10001, United States                                 870\n",
       "2400 Alliance Gateway Fwy, Fort Worth, TX 76177, United States                 850\n",
       "1540 2nd St, Santa Monica, CA 90405, United States                             820\n",
       "13749 US-183 Hwy, Austin, TX 78750, United States                              800\n",
       "550 Lawrence Expy, Sunnyvale, CA 94086, United States                          800\n",
       "111 Madison St, Oak Park, IL 60302, United States                              751\n",
       "11382 US-441, Orlando, FL 32837, United States                                 710\n",
       "1916 M St NW, Washington, DC 20036, United States                              680\n",
       "1121 Garnet Ave, San Diego, CA 92109, United States                            680\n",
       "25200 I-10 Lot 2, San Antonio, TX 78257, United States                         635\n",
       "1044 US-11, Champlain, NY 12919, United States                                 620\n",
       "7010 Bradlick Shopping Center, Annandale, VA 22003, United States              602\n",
       "1650 Washington Ave, Miami Beach, FL 33139, United States                      570\n",
       "690 Alameda St, Los Angeles, CA 90021, United States                           550\n",
       "5920 Balboa Ave, San Diego, CA 92111, United States                            550\n",
       "6875 Sand Lake Rd, Orlando, FL 32819, United States                            490\n",
       "501 W Imperial Hwy, Los Angeles, CA 90044, United States                       481\n",
       "262 Canal St, New York, NY 10013, United States                                270\n",
       "151 West 34th Street (Macy's 7th Floor, New York, NY 10001, United States       60\n",
       "114 Delancey St, New York, NY 10002, United States                               3\n",
       "10451 Santa Monica Blvd, Los Angeles, CA 90025, United States                    3\n",
       "555 13th St NW, Washington, DC 20004, United States                              3\n",
       "160 Broadway, New York, NY 10038, United States                                  3\n",
       "Name: count, dtype: int64"
      ]
     },
     "execution_count": 11,
     "metadata": {},
     "output_type": "execute_result"
    }
   ],
   "source": [
    "df['store_address'].value_counts()"
   ]
  },
  {
   "cell_type": "code",
   "execution_count": 12,
   "metadata": {},
   "outputs": [
    {
     "data": {
      "image/png": "[encoded data removed]",
      "text/plain": [
       "<Figure size 640x480 with 1 Axes>"
      ]
     },
     "metadata": {},
     "output_type": "display_data"
    }
   ],
   "source": [
    "barplot('store_address')"
   ]
  },
  {
   "cell_type": "code",
   "execution_count": 13,
   "metadata": {},
   "outputs": [
    {
     "data": {
      "text/plain": [
       "longitude\n",
       "-81.461242     1890\n",
       "-81.513738     1720\n",
       "-118.367904    1710\n",
       "-81.342692     1700\n",
       "-96.812286     1650\n",
       "-80.189098     1570\n",
       "-74.161475     1290\n",
       "-97.222925     1168\n",
       "-73.812460     1140\n",
       "-73.990583     1140\n",
       "-73.993264     1140\n",
       "-115.175822    1030\n",
       "-75.399919     1028\n",
       "-74.981099      943\n",
       "-97.660629      926\n",
       "-111.897383     890\n",
       "-73.992876      870\n",
       "-97.307652      850\n",
       "-118.494540     820\n",
       "-97.792874      800\n",
       "-121.995421     800\n",
       "-87.777913      751\n",
       "-81.405103      710\n",
       "-77.044235      680\n",
       "-117.249470     680\n",
       "-98.634580      635\n",
       "-73.459820      620\n",
       "-77.185055      602\n",
       "-80.132077      570\n",
       "-118.238206     550\n",
       "-117.178011     550\n",
       "-81.471414      490\n",
       "-118.282955     481\n",
       "-74.001168      270\n",
       "-73.989096       60\n",
       "-73.988280        3\n",
       "-118.426000       3\n",
       "-77.028913        3\n",
       "-74.009979        3\n",
       "Name: count, dtype: int64"
      ]
     },
     "execution_count": 13,
     "metadata": {},
     "output_type": "execute_result"
    }
   ],
   "source": [
    "df['longitude'].value_counts()\n"
   ]
  },
  {
   "cell_type": "code",
   "execution_count": 14,
   "metadata": {},
   "outputs": [
    {
     "data": {
      "image/png": "[encoded data removed]",
      "text/plain": [
       "<Figure size 640x480 with 1 Axes>"
      ]
     },
     "metadata": {},
     "output_type": "display_data"
    }
   ],
   "source": [
    "barplot('longitude')"
   ]
  },
  {
   "cell_type": "code",
   "execution_count": 15,
   "metadata": {},
   "outputs": [
    {
     "name": "stdout",
     "output_type": "stream",
     "text": [
      "39\n"
     ]
    }
   ],
   "source": [
    "print(len(df['longitude'].value_counts()))"
   ]
  },
  {
   "cell_type": "code",
   "execution_count": 16,
   "metadata": {},
   "outputs": [
    {
     "data": {
      "text/plain": [
       "latitude \n",
       "28.423814    1890\n",
       "28.333508    1720\n",
       "34.152507    1710\n",
       "28.655350    1700\n",
       "32.744596    1650\n",
       "25.810000    1570\n",
       "40.771910    1290\n",
       "33.009318    1168\n",
       "40.727401    1140\n",
       "40.750506    1140\n",
       "40.729126    1140\n",
       "36.090244    1030\n",
       "40.922081    1028\n",
       "39.852059     943\n",
       "30.329135     926\n",
       "40.759057     890\n",
       "40.752529     870\n",
       "32.958041     850\n",
       "34.012219     820\n",
       "30.460718     800\n",
       "37.385495     800\n",
       "41.879656     751\n",
       "28.399986     710\n",
       "38.905456     680\n",
       "32.797661     680\n",
       "29.676267     635\n",
       "44.981410     620\n",
       "38.812823     602\n",
       "25.790295     570\n",
       "34.035270     550\n",
       "32.820654     550\n",
       "28.450387     490\n",
       "33.931261     481\n",
       "40.718514     270\n",
       "40.750831      60\n",
       "40.718838       3\n",
       "34.056593       3\n",
       "38.896980       3\n",
       "40.709375       3\n",
       "Name: count, dtype: int64"
      ]
     },
     "execution_count": 16,
     "metadata": {},
     "output_type": "execute_result"
    }
   ],
   "source": [
    "df['latitude '].value_counts()\n"
   ]
  },
  {
   "cell_type": "code",
   "execution_count": 17,
   "metadata": {},
   "outputs": [
    {
     "data": {
      "image/png": "[encoded data removed]",
      "text/plain": [
       "<Figure size 640x480 with 1 Axes>"
      ]
     },
     "metadata": {},
     "output_type": "display_data"
    }
   ],
   "source": [
    "barplot('latitude ')"
   ]
  },
  {
   "cell_type": "code",
   "execution_count": 18,
   "metadata": {},
   "outputs": [
    {
     "name": "stdout",
     "output_type": "stream",
     "text": [
      "39\n"
     ]
    }
   ],
   "source": [
    "print(len(df['latitude '].value_counts()))"
   ]
  },
  {
   "cell_type": "code",
   "execution_count": 19,
   "metadata": {},
   "outputs": [
    {
     "data": {
      "text/plain": [
       "review_time\n",
       "4 years ago      6633\n",
       "3 years ago      5425\n",
       "a year ago       4698\n",
       "5 years ago      4225\n",
       "2 years ago      3850\n",
       "6 years ago      1644\n",
       "2 months ago      610\n",
       "8 months ago      487\n",
       "10 months ago     482\n",
       "3 months ago      479\n",
       "a month ago       472\n",
       "7 months ago      459\n",
       "5 months ago      448\n",
       "11 months ago     446\n",
       "6 months ago      444\n",
       "9 months ago      435\n",
       "4 months ago      380\n",
       "7 years ago       374\n",
       "2 weeks ago       131\n",
       "a week ago        125\n",
       "3 weeks ago       118\n",
       "8 years ago        84\n",
       "9 years ago        52\n",
       "4 weeks ago        46\n",
       "10 years ago       37\n",
       "2 days ago         30\n",
       "4 days ago         25\n",
       "5 days ago         22\n",
       "3 days ago         21\n",
       "6 days ago         17\n",
       "a day ago          16\n",
       "11 years ago       10\n",
       "12 years ago        4\n",
       "21 hours ago        2\n",
       "23 hours ago        1\n",
       "6 hours ago         1\n",
       "20 hours ago        1\n",
       "22 hours ago        1\n",
       "8 hours ago         1\n",
       "Name: count, dtype: int64"
      ]
     },
     "execution_count": 19,
     "metadata": {},
     "output_type": "execute_result"
    }
   ],
   "source": [
    "df['review_time'].value_counts()"
   ]
  },
  {
   "cell_type": "code",
   "execution_count": 20,
   "metadata": {},
   "outputs": [
    {
     "data": {
      "image/png": "[encoded data removed]",
      "text/plain": [
       "<Figure size 640x480 with 1 Axes>"
      ]
     },
     "metadata": {},
     "output_type": "display_data"
    }
   ],
   "source": [
    "barplot('review_time')"
   ]
  },
  {
   "cell_type": "code",
   "execution_count": 21,
   "metadata": {},
   "outputs": [
    {
     "name": "stdout",
     "output_type": "stream",
     "text": [
      "39\n"
     ]
    }
   ],
   "source": [
    "print(len(df['review_time'].value_counts()))"
   ]
  },
  {
   "cell_type": "code",
   "execution_count": 22,
   "metadata": {},
   "outputs": [
    {
     "data": {
      "image/png": "[encoded data removed]",
      "text/plain": [
       "<Figure size 640x480 with 1 Axes>"
      ]
     },
     "metadata": {},
     "output_type": "display_data"
    }
   ],
   "source": [
    "barplot('rating_count')"
   ]
  },
  {
   "cell_type": "code",
   "execution_count": 23,
   "metadata": {},
   "outputs": [
    {
     "data": {
      "text/plain": [
       "rating_count\n",
       "2,810     1140\n",
       "2,193     1140\n",
       "2,052     1140\n",
       "1,670     1140\n",
       "2,658     1140\n",
       "5,468     1140\n",
       "1,618     1140\n",
       "1,564     1100\n",
       "2,365     1030\n",
       "1,028     1028\n",
       "998        998\n",
       "1,795      960\n",
       "5,567      950\n",
       "933        943\n",
       "1,406      926\n",
       "3,243      890\n",
       "3,902      870\n",
       "957        850\n",
       "1,240      800\n",
       "1,562      800\n",
       "5,566      770\n",
       "1,454      751\n",
       "1,794      750\n",
       "5,466      750\n",
       "1,861      710\n",
       "1,269      680\n",
       "1,159      680\n",
       "1,460      635\n",
       "1,306      610\n",
       "595        602\n",
       "3,380      590\n",
       "4,922      570\n",
       "1,617      560\n",
       "2,614      550\n",
       "550        550\n",
       "2,657      510\n",
       "2,722      481\n",
       "19,671     460\n",
       "2,808      430\n",
       "3,196      270\n",
       "3,381      230\n",
       "1,565      190\n",
       "999        170\n",
       "263         60\n",
       "19,682      30\n",
       "1,307       10\n",
       "2,348        3\n",
       "2,251        3\n",
       "1,542        3\n",
       "5,186        3\n",
       "Name: count, dtype: int64"
      ]
     },
     "execution_count": 23,
     "metadata": {},
     "output_type": "execute_result"
    }
   ],
   "source": [
    "df['rating_count'].value_counts()"
   ]
  },
  {
   "cell_type": "code",
   "execution_count": 24,
   "metadata": {},
   "outputs": [
    {
     "name": "stderr",
     "output_type": "stream",
     "text": [
      "/tmp/ipykernel_291269/3970920434.py:3: SettingWithCopyWarning: \n",
      "A value is trying to be set on a copy of a slice from a DataFrame.\n",
      "Try using .loc[row_indexer,col_indexer] = value instead\n",
      "\n",
      "See the caveats in the documentation: https://pandas.pydata.org/pandas-docs/stable/user_guide/indexing.html#returning-a-view-versus-a-copy\n",
      "  df['rating'] = df['rating'].astype(str).str[0].astype(int)\n"
     ]
    },
    {
     "data": {
      "text/plain": [
       "0        1\n",
       "1        4\n",
       "2        1\n",
       "3        5\n",
       "4        1\n",
       "        ..\n",
       "33391    1\n",
       "33392    5\n",
       "33393    4\n",
       "33394    5\n",
       "33395    5\n",
       "Name: rating, Length: 32736, dtype: int64"
      ]
     },
     "execution_count": 24,
     "metadata": {},
     "output_type": "execute_result"
    }
   ],
   "source": [
    "from sklearn.preprocessing import LabelEncoder\n",
    "\n",
    "df['rating'] = df['rating'].astype(str).str[0].astype(int)\n",
    "df['rating']"
   ]
  },
  {
   "cell_type": "code",
   "execution_count": 25,
   "metadata": {},
   "outputs": [],
   "source": [
    "target = df.pop('rating')"
   ]
  },
  {
   "cell_type": "code",
   "execution_count": 26,
   "metadata": {},
   "outputs": [
    {
     "name": "stdout",
     "output_type": "stream",
     "text": [
      "0\n"
     ]
    }
   ],
   "source": [
    "target.value_counts()\n",
    "print(target.isnull().sum())"
   ]
  },
  {
   "cell_type": "code",
   "execution_count": 27,
   "metadata": {},
   "outputs": [
    {
     "name": "stdout",
     "output_type": "stream",
     "text": [
      "(32736, 5) (32736,)\n"
     ]
    },
    {
     "data": {
      "text/html": [
       "<div>\n",
       "<style scoped>\n",
       "    .dataframe tbody tr th:only-of-type {\n",
       "        vertical-align: middle;\n",
       "    }\n",
       "\n",
       "    .dataframe tbody tr th {\n",
       "        vertical-align: top;\n",
       "    }\n",
       "\n",
       "    .dataframe thead th {\n",
       "        text-align: right;\n",
       "    }\n",
       "</style>\n",
       "<table border=\"1\" class=\"dataframe\">\n",
       "  <thead>\n",
       "    <tr style=\"text-align: right;\">\n",
       "      <th></th>\n",
       "      <th>store_address</th>\n",
       "      <th>latitude</th>\n",
       "      <th>longitude</th>\n",
       "      <th>rating_count</th>\n",
       "      <th>review_time</th>\n",
       "      <th>rating</th>\n",
       "    </tr>\n",
       "  </thead>\n",
       "  <tbody>\n",
       "    <tr>\n",
       "      <th>0</th>\n",
       "      <td>13749 US-183 Hwy, Austin, TX 78750, United States</td>\n",
       "      <td>30.460718</td>\n",
       "      <td>-97.792874</td>\n",
       "      <td>1,240</td>\n",
       "      <td>3 months ago</td>\n",
       "      <td>1</td>\n",
       "    </tr>\n",
       "    <tr>\n",
       "      <th>1</th>\n",
       "      <td>13749 US-183 Hwy, Austin, TX 78750, United States</td>\n",
       "      <td>30.460718</td>\n",
       "      <td>-97.792874</td>\n",
       "      <td>1,240</td>\n",
       "      <td>5 days ago</td>\n",
       "      <td>4</td>\n",
       "    </tr>\n",
       "    <tr>\n",
       "      <th>2</th>\n",
       "      <td>13749 US-183 Hwy, Austin, TX 78750, United States</td>\n",
       "      <td>30.460718</td>\n",
       "      <td>-97.792874</td>\n",
       "      <td>1,240</td>\n",
       "      <td>5 days ago</td>\n",
       "      <td>1</td>\n",
       "    </tr>\n",
       "    <tr>\n",
       "      <th>3</th>\n",
       "      <td>13749 US-183 Hwy, Austin, TX 78750, United States</td>\n",
       "      <td>30.460718</td>\n",
       "      <td>-97.792874</td>\n",
       "      <td>1,240</td>\n",
       "      <td>a month ago</td>\n",
       "      <td>5</td>\n",
       "    </tr>\n",
       "    <tr>\n",
       "      <th>4</th>\n",
       "      <td>13749 US-183 Hwy, Austin, TX 78750, United States</td>\n",
       "      <td>30.460718</td>\n",
       "      <td>-97.792874</td>\n",
       "      <td>1,240</td>\n",
       "      <td>2 months ago</td>\n",
       "      <td>1</td>\n",
       "    </tr>\n",
       "    <tr>\n",
       "      <th>...</th>\n",
       "      <td>...</td>\n",
       "      <td>...</td>\n",
       "      <td>...</td>\n",
       "      <td>...</td>\n",
       "      <td>...</td>\n",
       "      <td>...</td>\n",
       "    </tr>\n",
       "    <tr>\n",
       "      <th>33391</th>\n",
       "      <td>3501 Biscayne Blvd, Miami, FL 33137, United St...</td>\n",
       "      <td>25.810000</td>\n",
       "      <td>-80.189098</td>\n",
       "      <td>2,810</td>\n",
       "      <td>4 years ago</td>\n",
       "      <td>1</td>\n",
       "    </tr>\n",
       "    <tr>\n",
       "      <th>33392</th>\n",
       "      <td>3501 Biscayne Blvd, Miami, FL 33137, United St...</td>\n",
       "      <td>25.810000</td>\n",
       "      <td>-80.189098</td>\n",
       "      <td>2,810</td>\n",
       "      <td>a year ago</td>\n",
       "      <td>5</td>\n",
       "    </tr>\n",
       "    <tr>\n",
       "      <th>33393</th>\n",
       "      <td>3501 Biscayne Blvd, Miami, FL 33137, United St...</td>\n",
       "      <td>25.810000</td>\n",
       "      <td>-80.189098</td>\n",
       "      <td>2,810</td>\n",
       "      <td>a year ago</td>\n",
       "      <td>4</td>\n",
       "    </tr>\n",
       "    <tr>\n",
       "      <th>33394</th>\n",
       "      <td>3501 Biscayne Blvd, Miami, FL 33137, United St...</td>\n",
       "      <td>25.810000</td>\n",
       "      <td>-80.189098</td>\n",
       "      <td>2,810</td>\n",
       "      <td>5 years ago</td>\n",
       "      <td>5</td>\n",
       "    </tr>\n",
       "    <tr>\n",
       "      <th>33395</th>\n",
       "      <td>3501 Biscayne Blvd, Miami, FL 33137, United St...</td>\n",
       "      <td>25.810000</td>\n",
       "      <td>-80.189098</td>\n",
       "      <td>2,810</td>\n",
       "      <td>2 years ago</td>\n",
       "      <td>5</td>\n",
       "    </tr>\n",
       "  </tbody>\n",
       "</table>\n",
       "<p>32736 rows × 6 columns</p>\n",
       "</div>"
      ],
      "text/plain": [
       "                                           store_address  latitude   \\\n",
       "0      13749 US-183 Hwy, Austin, TX 78750, United States  30.460718   \n",
       "1      13749 US-183 Hwy, Austin, TX 78750, United States  30.460718   \n",
       "2      13749 US-183 Hwy, Austin, TX 78750, United States  30.460718   \n",
       "3      13749 US-183 Hwy, Austin, TX 78750, United States  30.460718   \n",
       "4      13749 US-183 Hwy, Austin, TX 78750, United States  30.460718   \n",
       "...                                                  ...        ...   \n",
       "33391  3501 Biscayne Blvd, Miami, FL 33137, United St...  25.810000   \n",
       "33392  3501 Biscayne Blvd, Miami, FL 33137, United St...  25.810000   \n",
       "33393  3501 Biscayne Blvd, Miami, FL 33137, United St...  25.810000   \n",
       "33394  3501 Biscayne Blvd, Miami, FL 33137, United St...  25.810000   \n",
       "33395  3501 Biscayne Blvd, Miami, FL 33137, United St...  25.810000   \n",
       "\n",
       "       longitude rating_count   review_time  rating  \n",
       "0     -97.792874        1,240  3 months ago       1  \n",
       "1     -97.792874        1,240    5 days ago       4  \n",
       "2     -97.792874        1,240    5 days ago       1  \n",
       "3     -97.792874        1,240   a month ago       5  \n",
       "4     -97.792874        1,240  2 months ago       1  \n",
       "...          ...          ...           ...     ...  \n",
       "33391 -80.189098        2,810   4 years ago       1  \n",
       "33392 -80.189098        2,810    a year ago       5  \n",
       "33393 -80.189098        2,810    a year ago       4  \n",
       "33394 -80.189098        2,810   5 years ago       5  \n",
       "33395 -80.189098        2,810   2 years ago       5  \n",
       "\n",
       "[32736 rows x 6 columns]"
      ]
     },
     "execution_count": 27,
     "metadata": {},
     "output_type": "execute_result"
    }
   ],
   "source": [
    "# df[['store_address', 'latitude ', 'longitude', 'rating_count', 'review_time']]\n",
    "df_X = df[['store_address', 'latitude ', 'longitude', 'rating_count', 'review_time']]\n",
    "print(df_X.shape, target.shape)\n",
    "df_X = pd.concat([df_X, target], axis=1)\n",
    "\n",
    "df_X "
   ]
  },
  {
   "cell_type": "code",
   "execution_count": null,
   "metadata": {},
   "outputs": [],
   "source": []
  },
  {
   "cell_type": "code",
   "execution_count": 28,
   "metadata": {},
   "outputs": [
    {
     "name": "stdout",
     "output_type": "stream",
     "text": [
      "               store_address  latitude   longitude  rating_count  review_time  \\\n",
      "store_address       1.000000   0.025903   0.215798      0.280736     0.015802   \n",
      "latitude            0.025903   1.000000   0.144969     -0.256145    -0.016450   \n",
      "longitude           0.215798   0.144969   1.000000      0.018897     0.021053   \n",
      "rating_count        0.280736  -0.256145   0.018897      1.000000     0.001985   \n",
      "review_time         0.015802  -0.016450   0.021053      0.001985     1.000000   \n",
      "rating             -0.051795   0.103421   0.017439     -0.050706    -0.029029   \n",
      "\n",
      "                 rating  \n",
      "store_address -0.051795  \n",
      "latitude       0.103421  \n",
      "longitude      0.017439  \n",
      "rating_count  -0.050706  \n",
      "review_time   -0.029029  \n",
      "rating         1.000000  \n"
     ]
    }
   ],
   "source": [
    "import seaborn as sns\n",
    "\n",
    "label_encoders = {}\n",
    "\n",
    "for column in df_X.columns:\n",
    "    if df_X[column].dtype == 'object':\n",
    "        le = LabelEncoder()\n",
    "        df_X[column] = le.fit_transform(df_X[column])\n",
    "        label_encoders[column] = le\n",
    "\n",
    "\n",
    "# 상관관계 계산\n",
    "correlation_matrix = df_X.corr()\n",
    "\n",
    "# 상관관계 출력\n",
    "print(correlation_matrix)\n"
   ]
  },
  {
   "cell_type": "code",
   "execution_count": 29,
   "metadata": {},
   "outputs": [
    {
     "data": {
      "image/png": "[encoded data removed]",
      "text/plain": [
       "<Figure size 1000x800 with 2 Axes>"
      ]
     },
     "metadata": {},
     "output_type": "display_data"
    }
   ],
   "source": [
    "# 상관관계 히트맵 시각화\n",
    "plt.figure(figsize=(10, 8))\n",
    "sns.heatmap(correlation_matrix, annot=True, cmap='coolwarm', vmin=-1, vmax=1)\n",
    "plt.title('Correlation Matrix')\n",
    "plt.show()"
   ]
  },
  {
   "cell_type": "code",
   "execution_count": 30,
   "metadata": {},
   "outputs": [
    {
     "data": {
      "text/plain": [
       "0        1\n",
       "1        4\n",
       "2        1\n",
       "3        5\n",
       "4        1\n",
       "        ..\n",
       "33391    1\n",
       "33392    5\n",
       "33393    4\n",
       "33394    5\n",
       "33395    5\n",
       "Name: rating, Length: 32736, dtype: int64"
      ]
     },
     "execution_count": 30,
     "metadata": {},
     "output_type": "execute_result"
    }
   ],
   "source": [
    "df_X.pop('rating')"
   ]
  },
  {
   "cell_type": "code",
   "execution_count": 31,
   "metadata": {},
   "outputs": [
    {
     "data": {
      "text/html": [
       "<div>\n",
       "<style scoped>\n",
       "    .dataframe tbody tr th:only-of-type {\n",
       "        vertical-align: middle;\n",
       "    }\n",
       "\n",
       "    .dataframe tbody tr th {\n",
       "        vertical-align: top;\n",
       "    }\n",
       "\n",
       "    .dataframe thead th {\n",
       "        text-align: right;\n",
       "    }\n",
       "</style>\n",
       "<table border=\"1\" class=\"dataframe\">\n",
       "  <thead>\n",
       "    <tr style=\"text-align: right;\">\n",
       "      <th></th>\n",
       "      <th>store_address</th>\n",
       "      <th>latitude</th>\n",
       "      <th>longitude</th>\n",
       "      <th>rating_count</th>\n",
       "      <th>review_time</th>\n",
       "    </tr>\n",
       "  </thead>\n",
       "  <tbody>\n",
       "    <tr>\n",
       "      <th>0</th>\n",
       "      <td>8</td>\n",
       "      <td>30.460718</td>\n",
       "      <td>-97.792874</td>\n",
       "      <td>2</td>\n",
       "      <td>14</td>\n",
       "    </tr>\n",
       "    <tr>\n",
       "      <th>1</th>\n",
       "      <td>8</td>\n",
       "      <td>30.460718</td>\n",
       "      <td>-97.792874</td>\n",
       "      <td>2</td>\n",
       "      <td>21</td>\n",
       "    </tr>\n",
       "    <tr>\n",
       "      <th>2</th>\n",
       "      <td>8</td>\n",
       "      <td>30.460718</td>\n",
       "      <td>-97.792874</td>\n",
       "      <td>2</td>\n",
       "      <td>21</td>\n",
       "    </tr>\n",
       "    <tr>\n",
       "      <th>3</th>\n",
       "      <td>8</td>\n",
       "      <td>30.460718</td>\n",
       "      <td>-97.792874</td>\n",
       "      <td>2</td>\n",
       "      <td>36</td>\n",
       "    </tr>\n",
       "    <tr>\n",
       "      <th>4</th>\n",
       "      <td>8</td>\n",
       "      <td>30.460718</td>\n",
       "      <td>-97.792874</td>\n",
       "      <td>2</td>\n",
       "      <td>6</td>\n",
       "    </tr>\n",
       "    <tr>\n",
       "      <th>...</th>\n",
       "      <td>...</td>\n",
       "      <td>...</td>\n",
       "      <td>...</td>\n",
       "      <td>...</td>\n",
       "      <td>...</td>\n",
       "    </tr>\n",
       "    <tr>\n",
       "      <th>33391</th>\n",
       "      <td>20</td>\n",
       "      <td>25.810000</td>\n",
       "      <td>-80.189098</td>\n",
       "      <td>31</td>\n",
       "      <td>20</td>\n",
       "    </tr>\n",
       "    <tr>\n",
       "      <th>33392</th>\n",
       "      <td>20</td>\n",
       "      <td>25.810000</td>\n",
       "      <td>-80.189098</td>\n",
       "      <td>31</td>\n",
       "      <td>38</td>\n",
       "    </tr>\n",
       "    <tr>\n",
       "      <th>33393</th>\n",
       "      <td>20</td>\n",
       "      <td>25.810000</td>\n",
       "      <td>-80.189098</td>\n",
       "      <td>31</td>\n",
       "      <td>38</td>\n",
       "    </tr>\n",
       "    <tr>\n",
       "      <th>33394</th>\n",
       "      <td>20</td>\n",
       "      <td>25.810000</td>\n",
       "      <td>-80.189098</td>\n",
       "      <td>31</td>\n",
       "      <td>23</td>\n",
       "    </tr>\n",
       "    <tr>\n",
       "      <th>33395</th>\n",
       "      <td>20</td>\n",
       "      <td>25.810000</td>\n",
       "      <td>-80.189098</td>\n",
       "      <td>31</td>\n",
       "      <td>8</td>\n",
       "    </tr>\n",
       "  </tbody>\n",
       "</table>\n",
       "<p>32736 rows × 5 columns</p>\n",
       "</div>"
      ],
      "text/plain": [
       "       store_address  latitude   longitude  rating_count  review_time\n",
       "0                  8  30.460718 -97.792874             2           14\n",
       "1                  8  30.460718 -97.792874             2           21\n",
       "2                  8  30.460718 -97.792874             2           21\n",
       "3                  8  30.460718 -97.792874             2           36\n",
       "4                  8  30.460718 -97.792874             2            6\n",
       "...              ...        ...        ...           ...          ...\n",
       "33391             20  25.810000 -80.189098            31           20\n",
       "33392             20  25.810000 -80.189098            31           38\n",
       "33393             20  25.810000 -80.189098            31           38\n",
       "33394             20  25.810000 -80.189098            31           23\n",
       "33395             20  25.810000 -80.189098            31            8\n",
       "\n",
       "[32736 rows x 5 columns]"
      ]
     },
     "execution_count": 31,
     "metadata": {},
     "output_type": "execute_result"
    }
   ],
   "source": [
    "df_X"
   ]
  },
  {
   "cell_type": "code",
   "execution_count": 32,
   "metadata": {},
   "outputs": [
    {
     "data": {
      "text/plain": [
       "Index(['store_address', 'latitude ', 'longitude', 'rating_count',\n",
       "       'review_time'],\n",
       "      dtype='object')"
      ]
     },
     "execution_count": 32,
     "metadata": {},
     "output_type": "execute_result"
    }
   ],
   "source": [
    "df_X.columns"
   ]
  },
  {
   "cell_type": "code",
   "execution_count": 33,
   "metadata": {},
   "outputs": [],
   "source": [
    "X_one_hot_encoded = pd.get_dummies(df_X, columns=['store_address', 'latitude ', 'longitude', 'rating_count', 'review_time'])\n",
    "# X_one_hot_encoded = pd.get_dummies[columns = col_list]"
   ]
  },
  {
   "cell_type": "code",
   "execution_count": 34,
   "metadata": {},
   "outputs": [
    {
     "data": {
      "text/plain": [
       "(32736, 206)"
      ]
     },
     "execution_count": 34,
     "metadata": {},
     "output_type": "execute_result"
    }
   ],
   "source": [
    "X_one_hot_encoded.shape"
   ]
  },
  {
   "cell_type": "code",
   "execution_count": 35,
   "metadata": {},
   "outputs": [
    {
     "name": "stdout",
     "output_type": "stream",
     "text": [
      "Why does it look like someone spit on my food?\n",
      "I h 1\n",
      "It'd McDonalds. It is what it is as far as the foo 4\n",
      "Made a mobile order got to the speaker and checked 1\n"
     ]
    },
    {
     "name": "stderr",
     "output_type": "stream",
     "text": [
      "WARNING: All log messages before absl::InitializeLog() is called are written to STDERR\n",
      "I0000 00:00:1723145569.555599  291269 cuda_executor.cc:1015] successful NUMA node read from SysFS had negative value (-1), but there must be at least one NUMA node, so returning NUMA node zero. See more at https://github.com/torvalds/linux/blob/v6.0/Documentation/ABI/testing/sysfs-bus-pci#L344-L355\n",
      "2024-08-09 04:32:49.555818: W tensorflow/core/common_runtime/gpu/gpu_device.cc:2343] Cannot dlopen some GPU libraries. Please make sure the missing libraries mentioned above are installed properly if you would like to use GPU. Follow the guide at https://www.tensorflow.org/install/gpu for how to download and setup the required libraries for your platform.\n",
      "Skipping registering GPU devices...\n",
      "2024-08-09 04:32:49.589744: I tensorflow/core/framework/local_rendezvous.cc:404] Local rendezvous is aborting with status: OUT_OF_RANGE: End of sequence\n"
     ]
    }
   ],
   "source": [
    "\n",
    "ds_raw = tf.data.Dataset.from_tensor_slices((df['review'], target.values))\n",
    "\n",
    "# 데이터셋 확인\n",
    "for ex in ds_raw.take(3):\n",
    "    tf.print(ex[0].numpy().decode('utf-8')[:50], ex[1])"
   ]
  },
  {
   "cell_type": "code",
   "execution_count": 36,
   "metadata": {},
   "outputs": [
    {
     "data": {
      "text/plain": [
       "(32736, 9)"
      ]
     },
     "execution_count": 36,
     "metadata": {},
     "output_type": "execute_result"
    }
   ],
   "source": [
    "df.shape"
   ]
  },
  {
   "cell_type": "code",
   "execution_count": 39,
   "metadata": {},
   "outputs": [],
   "source": [
    "import myprocess\n",
    "\n",
    "datasize = df.shape[0]\n",
    "preprocessor = myprocess.PreProcess(ds_raw, datasize)"
   ]
  },
  {
   "cell_type": "code",
   "execution_count": 40,
   "metadata": {},
   "outputs": [
    {
     "ename": "TypeError",
     "evalue": "Expected binary or unicode string, got 87",
     "output_type": "error",
     "traceback": [
      "\u001b[0;31m---------------------------------------------------------------------------\u001b[0m",
      "\u001b[0;31mTypeError\u001b[0m                                 Traceback (most recent call last)",
      "Cell \u001b[0;32mIn[40], line 3\u001b[0m\n\u001b[1;32m      1\u001b[0m batch_size \u001b[38;5;241m=\u001b[39m \u001b[38;5;241m10\u001b[39m\n\u001b[0;32m----> 3\u001b[0m train_data, valid_data, test_data \u001b[38;5;241m=\u001b[39m \u001b[43mpreprocessor\u001b[49m\u001b[38;5;241;43m.\u001b[39;49m\u001b[43mget_datas\u001b[49m\u001b[43m(\u001b[49m\u001b[43mbatch_size\u001b[49m\u001b[43m,\u001b[49m\u001b[43m \u001b[49m\u001b[43mtrain_size\u001b[49m\u001b[38;5;241;43m=\u001b[39;49m\u001b[38;5;241;43m0.4\u001b[39;49m\u001b[43m,\u001b[49m\u001b[43m \u001b[49m\u001b[43mvalid_size\u001b[49m\u001b[43m \u001b[49m\u001b[38;5;241;43m=\u001b[39;49m\u001b[43m \u001b[49m\u001b[38;5;241;43m0.1\u001b[39;49m\u001b[43m,\u001b[49m\u001b[43m \u001b[49m\u001b[43mtest_size\u001b[49m\u001b[38;5;241;43m=\u001b[39;49m\u001b[38;5;241;43m0.5\u001b[39;49m\u001b[43m)\u001b[49m\n\u001b[1;32m      4\u001b[0m token_counts \u001b[38;5;241m=\u001b[39m preprocessor\u001b[38;5;241m.\u001b[39mtoken_counts\n\u001b[1;32m      5\u001b[0m token_counts\n",
      "File \u001b[0;32m~/바탕화면/-/영화리뷰감성분석/캐글책리뷰연습/myprocess.py:95\u001b[0m, in \u001b[0;36mPreProcess.get_datas\u001b[0;34m(self, batch_size, train_size, valid_size, test_size)\u001b[0m\n\u001b[1;32m     93\u001b[0m \u001b[38;5;28;01mdef\u001b[39;00m \u001b[38;5;21mget_datas\u001b[39m(\u001b[38;5;28mself\u001b[39m, batch_size, train_size\u001b[38;5;241m=\u001b[39m\u001b[38;5;241m0.4\u001b[39m, valid_size \u001b[38;5;241m=\u001b[39m \u001b[38;5;241m0.1\u001b[39m, test_size\u001b[38;5;241m=\u001b[39m\u001b[38;5;241m0.5\u001b[39m):\n\u001b[1;32m     94\u001b[0m     \u001b[38;5;28mself\u001b[39m\u001b[38;5;241m.\u001b[39m_divide(train_size, valid_size, test_size)\n\u001b[0;32m---> 95\u001b[0m     \u001b[38;5;28;43mself\u001b[39;49m\u001b[38;5;241;43m.\u001b[39;49m\u001b[43m_tokenize\u001b[49m\u001b[43m(\u001b[49m\u001b[43m)\u001b[49m\n\u001b[1;32m     97\u001b[0m     train_data \u001b[38;5;241m=\u001b[39m \u001b[38;5;28mself\u001b[39m\u001b[38;5;241m.\u001b[39mds_train\u001b[38;5;241m.\u001b[39mpadded_batch(batch_size, padded_shapes\u001b[38;5;241m=\u001b[39m([\u001b[38;5;241m-\u001b[39m\u001b[38;5;241m1\u001b[39m], []))\n\u001b[1;32m     98\u001b[0m     valid_data \u001b[38;5;241m=\u001b[39m \u001b[38;5;28mself\u001b[39m\u001b[38;5;241m.\u001b[39mds_valid\u001b[38;5;241m.\u001b[39mpadded_batch(batch_size, padded_shapes\u001b[38;5;241m=\u001b[39m([\u001b[38;5;241m-\u001b[39m\u001b[38;5;241m1\u001b[39m], []))\n",
      "File \u001b[0;32m~/바탕화면/-/영화리뷰감성분석/캐글책리뷰연습/myprocess.py:67\u001b[0m, in \u001b[0;36mPreProcess._tokenize\u001b[0;34m(self)\u001b[0m\n\u001b[1;32m     64\u001b[0m \u001b[38;5;28mself\u001b[39m\u001b[38;5;241m.\u001b[39mtoken_counts \u001b[38;5;241m=\u001b[39m Counter()\n\u001b[1;32m     66\u001b[0m \u001b[38;5;28;01mfor\u001b[39;00m ex \u001b[38;5;129;01min\u001b[39;00m \u001b[38;5;28mself\u001b[39m\u001b[38;5;241m.\u001b[39mds_raw:\n\u001b[0;32m---> 67\u001b[0m     tokens \u001b[38;5;241m=\u001b[39m \u001b[38;5;28;43mself\u001b[39;49m\u001b[38;5;241;43m.\u001b[39;49m\u001b[43mtokenizer\u001b[49m\u001b[38;5;241;43m.\u001b[39;49m\u001b[43mtokenize\u001b[49m\u001b[43m(\u001b[49m\u001b[43mex\u001b[49m\u001b[43m[\u001b[49m\u001b[38;5;241;43m0\u001b[39;49m\u001b[43m]\u001b[49m\u001b[38;5;241;43m.\u001b[39;49m\u001b[43mnumpy\u001b[49m\u001b[43m(\u001b[49m\u001b[43m)\u001b[49m\u001b[43m[\u001b[49m\u001b[38;5;241;43m0\u001b[39;49m\u001b[43m]\u001b[49m\u001b[43m)\u001b[49m\n\u001b[1;32m     68\u001b[0m     \u001b[38;5;28mself\u001b[39m\u001b[38;5;241m.\u001b[39mtoken_counts\u001b[38;5;241m.\u001b[39mupdate(tokens) \n\u001b[1;32m     70\u001b[0m \u001b[38;5;28mself\u001b[39m\u001b[38;5;241m.\u001b[39mencoder \u001b[38;5;241m=\u001b[39m tfds\u001b[38;5;241m.\u001b[39mdeprecated\u001b[38;5;241m.\u001b[39mtext\u001b[38;5;241m.\u001b[39mTokenTextEncoder(\u001b[38;5;28mself\u001b[39m\u001b[38;5;241m.\u001b[39mtoken_counts)\n",
      "File \u001b[0;32m~/anaconda3/envs/myenv/lib/python3.10/site-packages/tensorflow_datasets/core/deprecated/text/text_encoder.py:392\u001b[0m, in \u001b[0;36mTokenizer.tokenize\u001b[0;34m(self, s)\u001b[0m\n\u001b[1;32m    390\u001b[0m \u001b[38;5;28;01mdef\u001b[39;00m \u001b[38;5;21mtokenize\u001b[39m(\u001b[38;5;28mself\u001b[39m, s):\n\u001b[1;32m    391\u001b[0m \u001b[38;5;250m  \u001b[39m\u001b[38;5;124;03m\"\"\"Splits a string into tokens.\"\"\"\u001b[39;00m\n\u001b[0;32m--> 392\u001b[0m   s \u001b[38;5;241m=\u001b[39m \u001b[43mtf\u001b[49m\u001b[38;5;241;43m.\u001b[39;49m\u001b[43mcompat\u001b[49m\u001b[38;5;241;43m.\u001b[39;49m\u001b[43mas_text\u001b[49m\u001b[43m(\u001b[49m\u001b[43ms\u001b[49m\u001b[43m)\u001b[49m\n\u001b[1;32m    394\u001b[0m   \u001b[38;5;28;01mif\u001b[39;00m \u001b[38;5;28mself\u001b[39m\u001b[38;5;241m.\u001b[39mreserved_tokens:\n\u001b[1;32m    395\u001b[0m     \u001b[38;5;66;03m# First split out the reserved tokens\u001b[39;00m\n\u001b[1;32m    396\u001b[0m     substrs \u001b[38;5;241m=\u001b[39m \u001b[38;5;28mself\u001b[39m\u001b[38;5;241m.\u001b[39m_reserved_tokens_re\u001b[38;5;241m.\u001b[39msplit(s)\n",
      "File \u001b[0;32m~/anaconda3/envs/myenv/lib/python3.10/site-packages/tensorflow/python/util/compat.py:108\u001b[0m, in \u001b[0;36mas_text\u001b[0;34m(bytes_or_text, encoding)\u001b[0m\n\u001b[1;32m    106\u001b[0m   \u001b[38;5;28;01mreturn\u001b[39;00m bytes_or_text\u001b[38;5;241m.\u001b[39mdecode(encoding)\n\u001b[1;32m    107\u001b[0m \u001b[38;5;28;01melse\u001b[39;00m:\n\u001b[0;32m--> 108\u001b[0m   \u001b[38;5;28;01mraise\u001b[39;00m \u001b[38;5;167;01mTypeError\u001b[39;00m(\u001b[38;5;124m'\u001b[39m\u001b[38;5;124mExpected binary or unicode string, got \u001b[39m\u001b[38;5;132;01m%r\u001b[39;00m\u001b[38;5;124m'\u001b[39m \u001b[38;5;241m%\u001b[39m bytes_or_text)\n",
      "\u001b[0;31mTypeError\u001b[0m: Expected binary or unicode string, got 87"
     ]
    }
   ],
   "source": [
    "batch_size = 10\n",
    "\n",
    "train_data, valid_data, test_data = preprocessor.get_datas(batch_size, train_size=0.4, valid_size = 0.1, test_size=0.5)\n",
    "token_counts = preprocessor.token_counts\n",
    "token_counts"
   ]
  }
 ],
 "metadata": {
  "kernelspec": {
   "display_name": "myenv",
   "language": "python",
   "name": "python3"
  },
  "language_info": {
   "codemirror_mode": {
    "name": "ipython",
    "version": 3
   },
   "file_extension": ".py",
   "mimetype": "text/x-python",
   "name": "python",
   "nbconvert_exporter": "python",
   "pygments_lexer": "ipython3",
   "version": "3.10.14"
  }
 },
 "nbformat": 4,
 "nbformat_minor": 2
}
